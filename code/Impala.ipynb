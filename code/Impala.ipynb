{
 "cells": [
  {
   "cell_type": "code",
   "execution_count": 1,
   "metadata": {
    "collapsed": false
   },
   "outputs": [],
   "source": [
    "sc.stop()\n",
    "from pyspark import SparkContext, SparkConf\n",
    "nPartitions=2\n",
    "conf = (SparkConf()\n",
    "         .setMaster(\"local[\"+str(nPartitions)+\"]\")\n",
    "         .setAppName(\"Parquet test\")\n",
    "#         .set(\"spark.executor.memory\", \"15g\")\n",
    "#         .set(\"spark.driver.memory\", \"15g\")\n",
    "#         .set(\"spark.python.worker.memory\", \"15g\")\n",
    "       )\n",
    "sc = SparkContext(conf=conf)"
   ]
  },
  {
   "cell_type": "code",
   "execution_count": 2,
   "metadata": {
    "collapsed": false
   },
   "outputs": [
    {
     "data": {
      "text/plain": [
       "DataFrame[key: string, value: string]"
      ]
     },
     "execution_count": 2,
     "metadata": {},
     "output_type": "execute_result"
    }
   ],
   "source": [
    "from pyspark.sql import SQLContext\n",
    "sqlContext = SQLContext(sc)\n",
    "sqlContext.sql(\"SET spark.sql.parquet.binaryAsString=true\")"
   ]
  },
  {
   "cell_type": "code",
   "execution_count": 3,
   "metadata": {
    "collapsed": false
   },
   "outputs": [],
   "source": [
    "#parquetFile = sqlContext.read.parquet(\"/user/hive/warehouse/gvr4.db/variants\")\n",
    "#parquetFile = sqlContext.read.parquet(\"file:///home/yleborgn/variants\")\n",
    "parquetFile = sqlContext.read.parquet(\"file:////Users/yalb/Projects/Github/variant-ranking/df.parquet\")\n"
   ]
  },
  {
   "cell_type": "code",
   "execution_count": 5,
   "metadata": {
    "collapsed": false
   },
   "outputs": [
    {
     "data": {
      "text/plain": [
       "[Row(V1=2.0249117864257165, V2=1.9174997910064973, V3=-0.10753342102200739, V4=-0.389583423893461, V5=0.6233172049993165, V6=-0.24756928217514812, V7=-0.5426855487222194, V8=0.9338744018957462, V9=-0.7960244008928983, V10=-0.315015835807087),\n",
       " Row(V1=-0.5952086649795798, V2=-0.9327798864489051, V3=-1.2264758939865552, V4=1.4496559499139021, V5=0.8790688330136838, V6=-1.5422506130767502, V7=2.148812446006789, V8=0.1472099074904117, V9=1.1875443256856584, V10=0.3197953762240491),\n",
       " Row(V1=0.4879918315720742, V2=-0.044698788690299134, V3=1.0810271652793546, V4=0.5889089855892051, V5=-0.7110712609216471, V6=-0.557477981771439, V7=-0.0006119824887973781, V8=0.5939227174661564, V9=1.9987959764534966, V10=-0.5956168385979325),\n",
       " Row(V1=0.42437658022379465, V2=2.3095158881926037, V3=-0.702650080340013, V4=0.22588622687951387, V5=0.8600251197592431, V6=0.9363685777539316, V7=1.462948310611163, V8=0.5403256589665634, V9=0.9233345241212404, V10=2.41772052910008),\n",
       " Row(V1=-0.0033953774310982957, V2=-0.674602080327474, V3=0.1595566635653116, V4=-0.4497185919311726, V5=0.7029603219618283, V6=-0.9378921711038881, V7=-1.3272367145596717, V8=0.2620843717533132, V9=2.3422683249829066, V10=-0.02027645245382411),\n",
       " Row(V1=-1.06395329245199, V2=0.2028941441400527, V3=1.3960546716572992, V4=0.26854701959983607, V5=-1.2914608194920796, V6=0.9990457833736378, V7=-0.35726719938084206, V8=0.7999771475592498, V9=-1.1191797338812643, V10=0.6597667515697728),\n",
       " Row(V1=0.7514207963446126, V2=-1.079373727614909, V3=-1.323388019640031, V4=-0.0414913972781785, V5=-0.3693885864943274, V6=-1.0088055622368872, V7=0.8866859829390011, V8=0.45841750505089035, V9=0.7709630413230478, V10=-0.9360049711851367),\n",
       " Row(V1=-2.2732743761653706, V2=0.31879972360580355, V3=2.8147579925253083, V4=0.3972865550453782, V5=-2.3989940761492883, V6=1.7809399005308078, V7=-1.4433236354091157, V8=1.33199411636894, V9=-1.2105980323304035, V10=-0.19053292758851628),\n",
       " Row(V1=1.0613498668067172, V2=-1.5491846674203893, V3=0.5434886584469024, V4=-1.1472774610868572, V5=0.3104364960755899, V6=0.4990368257804357, V7=-0.10519041695184231, V8=-0.47788360962988735, V9=-0.14575483001208758, V10=-0.4840212116076664),\n",
       " Row(V1=-0.042923248079306885, V2=2.173963921192271, V3=0.18033948070286765, V4=-1.4891436955838708, V5=1.3120992009089387, V6=-0.8408041426476347, V7=0.6756106852590096, V8=0.7947682090128713, V9=-0.805985565857182, V10=0.05563788139366121)]"
      ]
     },
     "execution_count": 5,
     "metadata": {},
     "output_type": "execute_result"
    }
   ],
   "source": [
    "parquetFile.take(10)"
   ]
  },
  {
   "cell_type": "code",
   "execution_count": 71,
   "metadata": {
    "collapsed": false
   },
   "outputs": [],
   "source": [
    "parquetFile.registerTempTable(\"parquetFile\");"
   ]
  },
  {
   "cell_type": "code",
   "execution_count": 76,
   "metadata": {
    "collapsed": true
   },
   "outputs": [],
   "source": [
    "sqlCase=\"sample_id IN('ZH128472','ZH136914','ZH141272','ZH141483','ZH108301','ZH135914','ZH136155','ZH136587','ZH137071','ZH141455','ZH135614') AND snpeff_impact = 'HIGH'\"\n",
    "#sqlCase=\" (sample_id='ZH128472' or sample_id='ZH136914') and  snpeff_impact = 'HIGH'\"\n",
    "#sqlControl=\"sample_id IN('ZH136913','ZH136915','ZH141389','ZH141390','ZH142274','ZH142276','ZH1428','ZH1429','ZH135907','ZH135909','ZH136156','ZH136157','ZH136586','ZH137070','ZH137072','ZH137703','ZH142270','ZH96867','ZH141454','ZH141456','ZH135613','ZH135615') AND snpeff_impact = 'HIGH'\"\n",
    "#sqlCase=\"sample_id IN('HG00096','HG00097','HG00099','HG00100','HG00101','HG00102','HG00103','HG00105','HG00106','HG00107','HG00108','HG00109','HG00110','HG00111','HG00112','HG00113','HG00114','HG00115','HG00116','HG00117')\"\n"
   ]
  },
  {
   "cell_type": "code",
   "execution_count": 77,
   "metadata": {
    "collapsed": false
   },
   "outputs": [],
   "source": [
    "RDDcase = sqlContext.sql(\"SELECT sample_id,chr,position,reference,alternative,gene_ensembl,zygosity FROM parquetFile where \"+sqlCase+\" \")\n",
    "#RDDcontrol= sqlContext.sql(\"SELECT sample_id,chr,position,reference,alternative,gene_ensembl,zygosity FROM parquetFile where \"+sqlControl)"
   ]
  },
  {
   "cell_type": "code",
   "execution_count": 80,
   "metadata": {
    "collapsed": false
   },
   "outputs": [],
   "source": [
    "#RDDcontrol.cache()\n",
    "data=RDDcase.collect()"
   ]
  },
  {
   "cell_type": "code",
   "execution_count": 81,
   "metadata": {
    "collapsed": false
   },
   "outputs": [
    {
     "name": "stdout",
     "output_type": "stream",
     "text": [
      "7332\n"
     ]
    },
    {
     "data": {
      "text/plain": [
       "Row(sample_id=u'ZH128472', chr=u'20', position=61666063, reference=u'C', alternative=u'T', gene_ensembl=u'ENSG00000125514', zygosity=u'Homozygous')"
      ]
     },
     "execution_count": 81,
     "metadata": {},
     "output_type": "execute_result"
    }
   ],
   "source": [
    "print(len(data))\n",
    "data[1]"
   ]
  },
  {
   "cell_type": "code",
   "execution_count": 82,
   "metadata": {
    "collapsed": true
   },
   "outputs": [],
   "source": [
    "def getSampleID(variantData):\n",
    "    return variantData[0]\n"
   ]
  },
  {
   "cell_type": "code",
   "execution_count": 83,
   "metadata": {
    "collapsed": false
   },
   "outputs": [],
   "source": [
    "#sqlContext.sql(\"SELECT count(*) FROM parquetFile \").collect()\n",
    "#sample_id_case=RDDcase.map(getSampleID).distinct().collect()\n",
    "sample_id_control=RDDcase.map(getSampleID).distinct().collect()\n",
    "#genoMat=RDDcase.groupBy()"
   ]
  },
  {
   "cell_type": "code",
   "execution_count": 84,
   "metadata": {
    "collapsed": false
   },
   "outputs": [
    {
     "data": {
      "text/plain": [
       "[u'ZH141272',\n",
       " u'ZH141455',\n",
       " u'ZH137071',\n",
       " u'ZH128472',\n",
       " u'ZH141483',\n",
       " u'ZH108301',\n",
       " u'ZH136914',\n",
       " u'ZH135614',\n",
       " u'ZH136587',\n",
       " u'ZH135914',\n",
       " u'ZH136155']"
      ]
     },
     "execution_count": 84,
     "metadata": {},
     "output_type": "execute_result"
    }
   ],
   "source": [
    "sample_id_control"
   ]
  },
  {
   "cell_type": "code",
   "execution_count": 7,
   "metadata": {
    "collapsed": false
   },
   "outputs": [],
   "source": [
    "#sqlContext.cacheTable(\"parquetFile\")\n"
   ]
  },
  {
   "cell_type": "code",
   "execution_count": 14,
   "metadata": {
    "collapsed": false
   },
   "outputs": [],
   "source": [
    "dd=data.collect()"
   ]
  },
  {
   "cell_type": "code",
   "execution_count": 36,
   "metadata": {
    "collapsed": false,
    "scrolled": true
   },
   "outputs": [
    {
     "data": {
      "text/plain": [
       "u'ZH141483'"
      ]
     },
     "execution_count": 36,
     "metadata": {},
     "output_type": "execute_result"
    }
   ],
   "source": [
    "dd[0][1]"
   ]
  },
  {
   "cell_type": "code",
   "execution_count": null,
   "metadata": {
    "collapsed": true
   },
   "outputs": [],
   "source": [
    "sc.stop()"
   ]
  }
 ],
 "metadata": {
  "kernelspec": {
   "display_name": "Python 2",
   "language": "python",
   "name": "python2"
  },
  "language_info": {
   "codemirror_mode": {
    "name": "ipython",
    "version": 2
   },
   "file_extension": ".py",
   "mimetype": "text/x-python",
   "name": "python",
   "nbconvert_exporter": "python",
   "pygments_lexer": "ipython2",
   "version": "2.7.10"
  }
 },
 "nbformat": 4,
 "nbformat_minor": 0
}
