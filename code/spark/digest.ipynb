{
 "cells": [
  {
   "cell_type": "code",
   "execution_count": 15,
   "metadata": {
    "collapsed": false
   },
   "outputs": [],
   "source": [
    "from pyspark import SparkContext, SparkConf\n",
    "from pyspark.sql import SQLContext\n",
    "from pyspark.sql import HiveContext\n",
    "import json\n",
    "import time\n",
    "import sys\n",
    "from  scipy.stats import fisher_exact, ttest_ind\n",
    "\n",
    "content = [line.rstrip() for line in open('jobsArguments.conf')]\n",
    "\n",
    "analysisName=content[0]\n",
    "scope=content[1]\n",
    "scale=content[2]\n",
    "sqlControl=content[3]\n",
    "sqlCase=content[4]\n",
    "group1name=content[5]\n",
    "group2name=content[6]\n",
    "controlMAF=content[7]\n",
    "caseMAF=content[8]\n",
    "pathVariants=content[9]\n",
    "\n",
    "#nPartitions=8\n",
    "conf = (SparkConf()\n",
    "#         .setMaster(\"local[\"+str(nPartitions)+\"]\")\n",
    "         .setAppName(analysisName)\n",
    "       )\n",
    "#sc.stop()\n",
    "sc = SparkContext(conf=conf)\n",
    "\n",
    "\n",
    "#parquetFile = sqlContext.read.parquet(\"/user/hive/warehouse/gvr4.db/variantsulb\")\n",
    "#parquetFile = sqlContext.read.parquet(\"/Users/yalb/Projects/Github/Docker/cdh54_4_add1000g/variants2\")\n",
    "#parquetFile = sqlContext.read.parquet(\"hdfs://127.0.0.1:8020/user/hive/warehouse/gvr.db/test\")\n",
    "#parquetFile = sqlContext.read.parquet(\"hdfs://localhost/user/hive/warehouse/gvr3.db/variants\")\n",
    "\n"
   ]
  },
  {
   "cell_type": "code",
   "execution_count": 16,
   "metadata": {
    "collapsed": false
   },
   "outputs": [],
   "source": [
    "#sqlContext = HiveContext(sc) #sqlContext._get_hive_ctx() #HiveContext(sc) \n",
    "sqlContext = SQLContext(sc)\n",
    "sqlContext.sql(\"SET spark.sql.parquet.binaryAsString=true\")\n",
    "\n",
    "parquetFile = sqlContext.read.parquet(pathVariants)\n",
    "parquetFile.registerTempTable(\"variantData\");\n"
   ]
  },
  {
   "cell_type": "code",
   "execution_count": 17,
   "metadata": {
    "collapsed": false
   },
   "outputs": [],
   "source": [
    "#Input is vector patient, chr, pos, ref, alt, gene_symbol, zygosity\n",
    "def createKey_VariantGene(variantData):\n",
    "    #ID is chr:pos:ref:alt\n",
    "    ID=variantData[1]+\":\"+str(variantData[2])+\":\"+variantData[3]+\":\"+variantData[4]\n",
    "    \n",
    "    #return ID, gene_symbol, patient, zygosity\n",
    "    zygosity=1\n",
    "    if variantData[6]==\"Homozygous\":\n",
    "    #if variantData[6]==2:\n",
    "        zygosity=2\n",
    "    patientsID_dictionnary=patientsID_dictionnary_b.value\n",
    "    patientIndex=patientsID_dictionnary[variantData[0]]\n",
    "    return ((ID,variantData[5]),(patientIndex,zygosity))\n",
    "\n",
    "#variantGeneEntry: key is (variantID,gene), value is (patientIndex,zygosity)\n",
    "def geneAsKey(variantGeneEntry):    \n",
    "    return (variantGeneEntry[0][1],(variantGeneEntry[0][0],variantGeneEntry[1]))\n",
    "\n",
    "def createPairs(k,v,idList):\n",
    "    idListOthers=idList[:]\n",
    "    idListOthers.remove(k)\n",
    "    return [(str(sorted([k,idElt])),(sorted([k,idElt]),v)) for idElt in idListOthers]\n",
    "\n",
    "def getVariantID(key_VariantGene):\n",
    "    return key_VariantGene[0]\n"
   ]
  },
  {
   "cell_type": "code",
   "execution_count": 18,
   "metadata": {
    "collapsed": true
   },
   "outputs": [],
   "source": [
    "def getGenotypeVector(genotypeList):\n",
    "    genotypeVector=[0]*len(patientsID_dictionnary_b.value)\n",
    "    if len(genotypeList)>0:\n",
    "        for j in range(0,len(genotypeList)):\n",
    "            genotypeVector[genotypeList[j][0]]=genotypeList[j][1]\n",
    "        \n",
    "        sumCase=float(sum([int(x>0) for x in genotypeVector[0:patientsID_split_index_b.value]]))\n",
    "        sumControl=float(sum([int(x>0) for x in genotypeVector[patientsID_split_index_b.value:len(patientsID_dictionnary_b.value)]]))\n",
    "    \n",
    "        ratioCase=sumCase/patientsID_split_index_b.value\n",
    "        ratioControl=sumControl/(len(patientsID_dictionnary_b.value)-patientsID_split_index_b.value)\n",
    "        \n",
    "        if (ratioCase>float(caseMAF_b.value)) or (ratioControl>float(controlMAF_b.value)):\n",
    "            genotypeVector=[0]*len(patientsID_dictionnary_b.value)\n",
    "        \n",
    "    return genotypeVector        \n",
    "    "
   ]
  },
  {
   "cell_type": "code",
   "execution_count": 67,
   "metadata": {
    "collapsed": false
   },
   "outputs": [],
   "source": [
    "def getGenotypeVectorByGene(geneID,variantList):\n",
    "    genotypeVectorByGene=[0]*len(patientsID_dictionnary_b.value)\n",
    "    \n",
    "    if len(variantList)>0:\n",
    "        #Go through list of variants\n",
    "        for i in range(0,len(variantList)):\n",
    "            #Get variant ID, and list of sample_index,genotype\n",
    "            (variantID,genotypeList)=variantList[i]\n",
    "            if genotypeList.__class__==tuple:\n",
    "                genotypeList=[genotypeList]\n",
    "            else:\n",
    "                genotypeList=list(genotypeList)\n",
    "            \n",
    "            #Get genotype vector for current variantID\n",
    "            genotypeVector=getGenotypeVector(genotypeList)\n",
    "            #And sum with previous genotype vectors\n",
    "            genotypeVectorByGene=[x+y for x,y in zip(genotypeVectorByGene,genotypeVector)]\n",
    "    \n",
    "    return genotypeVectorByGene"
   ]
  },
  {
   "cell_type": "code",
   "execution_count": 20,
   "metadata": {
    "collapsed": true
   },
   "outputs": [],
   "source": [
    "#variantList is [(locusID,[genotype])]\n",
    "def scoreVariant(key_VariantGene,value_GenotypeList):\n",
    "    genotypeList=list(value_GenotypeList)\n",
    "    \n",
    "    patientsID_dictionnary=patientsID_dictionnary_b.value\n",
    "    patientsID_split_index=patientsID_split_index_b.value\n",
    "    \n",
    "    genotypeVector=getGenotypeVector(genotypeList)\n",
    "    \n",
    "    #sumCase=float(sum([int(x>0) for x in genotypeVector[0:patientsID_split_index]]))\n",
    "    #sumControl=float(sum([int(x>0) for x in genotypeVector[patientsID_split_index:len(patientsID_dictionnary)]]))\n",
    "    sumCase=float(sum([x for x in genotypeVector[0:patientsID_split_index]]))\n",
    "    sumControl=float(sum([x for x in genotypeVector[patientsID_split_index:len(patientsID_dictionnary)]]))\n",
    "    \n",
    "    ratioCase=sumCase/patientsID_split_index\n",
    "    ratioControl=sumControl/(len(patientsID_dictionnary)-patientsID_split_index)\n",
    "        \n",
    "    score=ratioCase-ratioControl\n",
    "    #pvalue=fisher_exact([[sumCase,patientsID_split_index-sumCase],[sumControl,len(patientsID_dictionnary)-patientsID_split_index]],'greater')[1]\n",
    "    pvalue=ttest_ind(genotypeVector[0:patientsID_split_index],genotypeVector[patientsID_split_index:len(patientsID_dictionnary)])[1]/2\n",
    "    \n",
    "    \n",
    "    #if score>0:\n",
    "    return (key_VariantGene,(score,pvalue,ratioCase,ratioControl,sumCase,sumControl))"
   ]
  },
  {
   "cell_type": "code",
   "execution_count": 21,
   "metadata": {
    "collapsed": true
   },
   "outputs": [],
   "source": [
    "def scoreVariantPair(variantIDpair,value_GenotypeListPair):\n",
    "    \n",
    "    genotypeListPair=list(value_GenotypeListPair)\n",
    "    \n",
    "    patientsID_dictionnary=patientsID_dictionnary_b.value\n",
    "    patientsID_split_index=patientsID_split_index_b.value\n",
    "    \n",
    "    score=0\n",
    "    if len(genotypeListPair)==2:\n",
    "        (variantID,genotypeList1)=genotypeListPair[0]\n",
    "        (variantID,genotypeList2)=genotypeListPair[1]\n",
    "        \n",
    "        variantID1=variantID[0]\n",
    "        variantID2=variantID[1]\n",
    "        \n",
    "        genotypeList1=list(genotypeList1)\n",
    "        genotypeList2=list(genotypeList2)\n",
    "        \n",
    "        genotypeVector1=getGenotypeVector(genotypeList1)\n",
    "        genotypeVector2=getGenotypeVector(genotypeList2)\n",
    "        \n",
    "        genotypeVector=[int(x>0 and y>0) for x,y in zip(genotypeVector1,genotypeVector2)]\n",
    "        \n",
    "        sumCase=float(sum([int(x>0) for x in genotypeVector[0:patientsID_split_index]]))\n",
    "        ratioCase=sumCase/patientsID_split_index\n",
    "        sumControl=float(sum([int(x>0) for x in genotypeVector[(patientsID_split_index+1):len(patientsID_dictionnary)]]))\n",
    "        ratioControl=sumControl/(len(patientsID_dictionnary)-patientsID_split_index)\n",
    "        \n",
    "        score=ratioCase-ratioControl\n",
    "        pvalue=fisher_exact([[sumCase,patientsID_split_index-sumCase],[sumControl,len(patientsID_dictionnary)-patientsID_split_index]],'greater')[1]\n",
    "        \n",
    "        #if score>0:\n",
    "        return (variantIDpair,((variantID1,variantID2),score,pvalue,ratioCase,ratioControl,sumCase,sumControl))\n",
    "\n"
   ]
  },
  {
   "cell_type": "code",
   "execution_count": 22,
   "metadata": {
    "collapsed": false
   },
   "outputs": [],
   "source": [
    "#variantList is [(locusID,[sample_index,genotype])]\n",
    "def scoreGene(geneID,variantList):\n",
    "    variantList=list(variantList)\n",
    "    \n",
    "    patientsID_dictionnary=patientsID_dictionnary_b.value\n",
    "    genoSum=[0]*len(patientsID_dictionnary)\n",
    "    \n",
    "    patientsID_split_index=patientsID_split_index_b.value\n",
    "    \n",
    "    genotypeVectorByGene=getGenotypeVectorByGene(geneID,variantList)\n",
    "    \n",
    "    sumCase=float(sum([int(x>0) for x in genotypeVectorByGene[0:patientsID_split_index]]))\n",
    "    sumControl=float(sum([int(x>0) for x in genotypeVectorByGene[patientsID_split_index:len(patientsID_dictionnary)]]))\n",
    "    \n",
    "    ratioCase=sumCase/patientsID_split_index\n",
    "    ratioControl=sumControl/(len(patientsID_dictionnary)-patientsID_split_index)\n",
    "        \n",
    "    score=ratioCase-ratioControl\n",
    "    pvalue=fisher_exact([[sumCase,patientsID_split_index-sumCase],[sumControl,len(patientsID_dictionnary)-patientsID_split_index]],'greater')[1]\n",
    "    #pvalue=ttest_ind(genotypeVectorByGene[0:patientsID_split_index],genotypeVectorByGene[patientsID_split_index:len(patientsID_dictionnary)])[1]/2\n",
    "        \n",
    "    #if score>0:\n",
    "    return (geneID,(score,pvalue,ratioCase,ratioControl,sumCase,sumControl))"
   ]
  },
  {
   "cell_type": "code",
   "execution_count": 23,
   "metadata": {
    "collapsed": false
   },
   "outputs": [],
   "source": [
    "def scoreGenePair(gene_symbol_pair,variantList):\n",
    "    \n",
    "    variantList=list(variantList)\n",
    "    \n",
    "    patientsID_dictionnary=patientsID_dictionnary_b.value\n",
    "    \n",
    "    patientsID_split_index=patientsID_split_index_b.value\n",
    "    \n",
    "    score=0\n",
    "    if len(variantList)==2:\n",
    "        (genes,variantList1)=variantList[0]\n",
    "        (genes,variantList2)=variantList[1]\n",
    "        \n",
    "        gene1=genes[0]\n",
    "        gene2=genes[1]\n",
    "        \n",
    "        variantList1=list(variantList1)\n",
    "        variantList2=list(variantList2)\n",
    "        \n",
    "        genoSum1=getGenotypeVectorByGene(gene1,variantList1)\n",
    "        genoSum2=getGenotypeVectorByGene(gene2,variantList2)\n",
    "        \n",
    "        genoSum=[int(x>0 and y>0) for x,y in zip(genoSum1,genoSum2)]\n",
    "        sumCase=float(sum([int(x>0) for x in genoSum[0:patientsID_split_index]]))\n",
    "        sumControl=float(sum([int(x>0) for x in genoSum[(patientsID_split_index+1):len(patientsID_dictionnary)]]))\n",
    "        \n",
    "        ratioCase=sumCase/patientsID_split_index\n",
    "        ratioControl=sumControl/(len(patientsID_dictionnary)-patientsID_split_index)\n",
    "        \n",
    "        score=ratioCase-ratioControl\n",
    "        pvalue=fisher_exact([[sumCase,patientsID_split_index-sumCase],[sumControl,len(patientsID_dictionnary)-patientsID_split_index]],'greater')[1]\n",
    "        \n",
    "        #if score>0:\n",
    "        return (gene_symbol_pair,((gene1,gene2),score,pvalue,ratioCase,ratioControl,sumCase,sumControl))\n",
    "\n"
   ]
  },
  {
   "cell_type": "code",
   "execution_count": 24,
   "metadata": {
    "collapsed": false
   },
   "outputs": [],
   "source": [
    "start_time = time.time()\n",
    "\n",
    "variants_case = sqlContext.sql(\"SELECT sample_id,chr,pos,ref,alt,gene_symbol,zygosity FROM variantData \"+sqlCase)\n",
    "patientsID_case=sorted(variants_case.map(lambda v:v[0]).distinct().collect())\n",
    "\n",
    "variants_control= sqlContext.sql(\"SELECT sample_id,chr,pos,ref,alt,gene_symbol,zygosity FROM variantData \"+sqlControl)\n",
    "patientsID_control=sorted(variants_control.map(lambda v:v[0]).distinct().collect())\n",
    "\n",
    "patientsID=patientsID_case+patientsID_control\n",
    "patientsID_dictionnary=dict(zip(patientsID,range(len(patientsID))))\n",
    "\n",
    "patientsID_split_index_b = sc.broadcast(len(patientsID_case))\n",
    "patientsID_dictionnary_b = sc.broadcast(patientsID_dictionnary)\n",
    "\n",
    "variants=variants_control.unionAll(variants_case)\n",
    "variants_grouped=variants.map(createKey_VariantGene)\n",
    "\n",
    "controlMAF_b=sc.broadcast(controlMAF)\n",
    "caseMAF_b=sc.broadcast(caseMAF)\n",
    "\n",
    "#variants_grouped.count()\n"
   ]
  },
  {
   "cell_type": "code",
   "execution_count": 74,
   "metadata": {
    "collapsed": false,
    "scrolled": true
   },
   "outputs": [
    {
     "name": "stdout",
     "output_type": "stream",
     "text": [
      "2446.39699411\n"
     ]
    }
   ],
   "source": [
    "#start_time = time.time()\n",
    "ntests=0\n",
    "if scope=='monogenic':\n",
    "    if scale=='variant':\n",
    "        ntests=variants_grouped.count()\n",
    "        scores=variants_grouped.map(lambda (k,v):scoreVariant(k,v)).filter(lambda x:x is not None).takeOrdered(1000, key=lambda (k,(v1,v2,v3,v4,v5,v6)): -v1)\n",
    "\n",
    "    if scale=='gene':\n",
    "        variants_grouped_by_gene=variants_grouped.map(geneAsKey).groupByKey()\n",
    "        ntests=variants_grouped_by_gene.count()\n",
    "        scores=variants_grouped_by_gene.map(lambda (k,v):scoreGene(k,v)).filter(lambda x:x is not None).takeOrdered(1000, key=lambda (k,(v1,v2,v3,v4,v5,v6)): -v1)\n",
    "\n",
    "if scope=='digenic':\n",
    "    if scale=='variant':\n",
    "        variantsID=variants_grouped.keys().map(getVariantID).collect()\n",
    "        variants_grouped_by_pairs=variants_grouped.flatMap(lambda (k,v):createPairs(k[0],v,variantsID)).groupByKey()\n",
    "        scores=variants_grouped_by_pairs.map(lambda (k,v):scoreVariantPair(k,v)).filter(lambda x:x is not None).takeOrdered(1000, key=lambda (k,(variants,v1,v2,v3,v4,v5,v6)): -v1)\n",
    "        ntests=len(variantsID)*(len(variantsID)+1)/2\n",
    "   \n",
    "    if scale=='gene':\n",
    "        variants_grouped_by_gene=variants_grouped.map(geneAsKey).groupByKey()\n",
    "        genesID=variants_grouped_by_gene.keys().collect()\n",
    "        variants_grouped_by_gene_pairs=variants_grouped_by_gene.flatMap(lambda (k,v):createPairs(k,v,genesID)).groupByKey()\n",
    "        scores=variants_grouped_by_gene_pairs.map(lambda (k,v):scoreGenePair(k,v)).filter(lambda x:x is not None).takeOrdered(1000, key=lambda (k,(genes,v1,v2,v3,v4,v5,v6)): -v1)\n",
    "        ntests=len(genesID)*(len(genesID)+1)/2\n",
    "    \n",
    "end_time=time.time()\n",
    "runtime=end_time - start_time\n",
    "print(runtime)\n"
   ]
  },
  {
   "cell_type": "code",
   "execution_count": 75,
   "metadata": {
    "collapsed": false
   },
   "outputs": [
    {
     "data": {
      "text/plain": [
       "1000"
      ]
     },
     "execution_count": 75,
     "metadata": {},
     "output_type": "execute_result"
    }
   ],
   "source": [
    "len(scores)"
   ]
  },
  {
   "cell_type": "code",
   "execution_count": 76,
   "metadata": {
    "collapsed": false
   },
   "outputs": [
    {
     "data": {
      "text/plain": [
       "[(\"[u'NIPBL', u'SLC9A6']\",\n",
       "  ((u'NIPBL', u'SLC9A6'),\n",
       "   0.19782608695652174,\n",
       "   0.0019465213634406399,\n",
       "   0.25,\n",
       "   0.05217391304347826,\n",
       "   8.0,\n",
       "   6.0)),\n",
       " (\"[u'CDT1', u'CENPJ']\",\n",
       "  ((u'CDT1', u'CENPJ'),\n",
       "   0.1701086956521739,\n",
       "   0.001316851605676693,\n",
       "   0.1875,\n",
       "   0.017391304347826087,\n",
       "   6.0,\n",
       "   2.0)),\n",
       " (\"[u'CDT1', u'CIT']\",\n",
       "  ((u'CDT1', u'CIT'), 0.125, 0.0019258845090546202, 0.125, 0.0, 4.0, 0.0))]"
      ]
     },
     "execution_count": 76,
     "metadata": {},
     "output_type": "execute_result"
    }
   ],
   "source": [
    "scores[0:3]"
   ]
  },
  {
   "cell_type": "code",
   "execution_count": 14,
   "metadata": {
    "collapsed": false
   },
   "outputs": [],
   "source": [
    "scores=[analysisName,scale,scope,start_time,end_time,runtime,scores,patientsID_case,patientsID_control,group1name,group2name,ntests]\n",
    "\n",
    "with open(analysisName+'.txt', 'w') as outfile:\n",
    "    json.dump(scores, outfile)\n",
    "    "
   ]
  },
  {
   "cell_type": "code",
   "execution_count": null,
   "metadata": {
    "collapsed": true
   },
   "outputs": [],
   "source": [
    "sc.stop()"
   ]
  }
 ],
 "metadata": {
  "kernelspec": {
   "display_name": "Python 2",
   "language": "python",
   "name": "python2"
  },
  "language_info": {
   "codemirror_mode": {
    "name": "ipython",
    "version": 2
   },
   "file_extension": ".py",
   "mimetype": "text/x-python",
   "name": "python",
   "nbconvert_exporter": "python",
   "pygments_lexer": "ipython2",
   "version": "2.7.10"
  }
 },
 "nbformat": 4,
 "nbformat_minor": 0
}
