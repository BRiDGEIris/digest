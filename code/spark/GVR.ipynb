{
 "cells": [
  {
   "cell_type": "code",
   "execution_count": 86,
   "metadata": {
    "collapsed": false
   },
   "outputs": [],
   "source": [
    "from pyspark import SparkContext, SparkConf\n",
    "from pyspark.sql import SQLContext\n",
    "from pyspark.sql import HiveContext\n",
    "import json\n",
    "import time\n",
    "import sys\n",
    "from  scipy.stats import fisher_exact\n",
    "\n",
    "content = [line.rstrip() for line in open('jobsArguments.conf')]\n",
    "\n",
    "analysisName=content[0]\n",
    "scope=content[1]\n",
    "scale=content[2]\n",
    "sqlControl=content[3]\n",
    "sqlCase=content[4]\n",
    "group1name=content[5]\n",
    "group2name=content[6]\n",
    "controlMAF=content[7]\n",
    "caseMAF=content[8]\n",
    "pathVariants=content[9]\n",
    "\n",
    "nPartitions=8\n",
    "conf = (SparkConf()\n",
    "         .setMaster(\"local[\"+str(nPartitions)+\"]\")\n",
    "         .setAppName(analysisName)\n",
    "#         .set(\"spark.executor.memory\", \"5g\")\n",
    "#         .set(\"spark.driver.memory\", \"5g\")\n",
    "#         .set(\"spark.python.worker.memory\", \"5g\")\n",
    "       )\n",
    "#sc.stop()\n",
    "sc = SparkContext(conf=conf)\n",
    "\n",
    "\n",
    "#parquetFile = sqlContext.read.parquet(\"/user/hive/warehouse/gvr4.db/variantsulb\")\n",
    "#parquetFile = sqlContext.read.parquet(\"/Users/yalb/Projects/Github/Docker/cdh54_4_add1000g/variants2\")\n",
    "#parquetFile = sqlContext.read.parquet(\"hdfs://127.0.0.1:8020/user/hive/warehouse/gvr.db/test\")\n",
    "#parquetFile = sqlContext.read.parquet(\"hdfs://localhost/user/hive/warehouse/gvr3.db/variants\")\n",
    "\n"
   ]
  },
  {
   "cell_type": "code",
   "execution_count": 87,
   "metadata": {
    "collapsed": false
   },
   "outputs": [],
   "source": [
    "#sqlContext = HiveContext(sc) #sqlContext._get_hive_ctx() #HiveContext(sc) \n",
    "sqlContext = SQLContext(sc)\n",
    "sqlContext.sql(\"SET spark.sql.parquet.binaryAsString=true\")\n",
    "\n",
    "#parquetFile = sqlContext.read.parquet(\"hdfs://node001:8020/user/hive/warehouse/highlander.db/exomes_hc\")\n",
    "#pathVariants=\"/Users/yalb/Projects/Github/digest/variantsulb\"\n",
    "parquetFile = sqlContext.read.parquet(pathVariants)\n",
    "parquetFile.registerTempTable(\"parquetFile\");\n"
   ]
  },
  {
   "cell_type": "code",
   "execution_count": 61,
   "metadata": {
    "collapsed": true
   },
   "outputs": [],
   "source": [
    "#analysisName=\"control_vs_neurodev_rare_digenic\"\n",
    "#group1name=\"control_ulb_rare_damaging\"\n",
    "#group2name=\"neurodev_ulb_rare_damaging\"\n",
    "#scope=\"monogenic\"\n",
    "#scale=\"gene\"\n",
    "#controlMAF=0.5"
   ]
  },
  {
   "cell_type": "code",
   "execution_count": 62,
   "metadata": {
    "collapsed": false
   },
   "outputs": [],
   "source": [
    "#RDDtest = sqlContext.sql(\"SELECT distinct patient from parquetFile\")"
   ]
  },
  {
   "cell_type": "code",
   "execution_count": 63,
   "metadata": {
    "collapsed": false
   },
   "outputs": [],
   "source": [
    "#RDDtest.count()"
   ]
  },
  {
   "cell_type": "code",
   "execution_count": 88,
   "metadata": {
    "collapsed": false
   },
   "outputs": [],
   "source": [
    "#Input is vector patient, chr, pos, ref, alt, gene_symbol, zygosity\n",
    "def createKey_VariantGene(variantData):\n",
    "    #ID is chr:pos:ref:alt\n",
    "    ID=variantData[1]+\":\"+str(variantData[2])+\":\"+variantData[3]+\":\"+variantData[4]\n",
    "    \n",
    "    #return ID, gene_symbol, patient, zygosity\n",
    "    zygosity=2\n",
    "    if variantData[6]==\"Heterozygous\":\n",
    "        zygosity=1\n",
    "    patientsID_dictionnary=patientsID_dictionnary_b.value\n",
    "    patientIndex=patientsID_dictionnary[variantData[0]]\n",
    "    return ((ID,variantData[5]),(patientIndex,zygosity))\n",
    "\n",
    "def buildVariantVector(ID,variantData,patientsID):\n",
    "    variantData=list(variantData)\n",
    "    genotype=[0]*len(patientsID)\n",
    "    \n",
    "    #Get sampleID/Genotype for each variant\n",
    "    for i in range(0,len(variantData)):\n",
    "        genotype[variantData[i][1]]=variantData[i][2]\n",
    "    \n",
    "    return ((ID,variantData[0][0]),genotype)\n",
    "\n"
   ]
  },
  {
   "cell_type": "code",
   "execution_count": 89,
   "metadata": {
    "collapsed": true
   },
   "outputs": [],
   "source": [
    "#variantGeneEntry: key is (variantID,gene), value is (patientIndex,zygosity)\n",
    "def geneAsKey(variantGeneEntry):    \n",
    "    return (variantGeneEntry[0][1],(variantGeneEntry[0][0],variantGeneEntry[1]))\n",
    "\n",
    "def makePairParts(k,v,nbPart):\n",
    "    result=[]\n",
    "    for i in range(0,nbPart):\n",
    "        result.append(((k,i),v))\n",
    "        \n",
    "    return [(str(sorted([k,i])),(v)) for i in range(0,nbPart)]\n",
    "\n",
    "def f(splitIndex ,v): \n",
    "    return [(splitIndex,list(v))]"
   ]
  },
  {
   "cell_type": "code",
   "execution_count": 90,
   "metadata": {
    "collapsed": true
   },
   "outputs": [],
   "source": [
    "def scoreVariantUnivariate(k,variantData):\n",
    "    variantData=list(variantData)\n",
    "    \n",
    "    score=0\n",
    "    sumControl=0\n",
    "    \n",
    "    sumCase=sum([int(x>0) for x in variantData[0]])\n",
    "    sumControl=sum([int(x>0) for x in variantData[1]])\n",
    "    \n",
    "    score=sumCase#-sumControl\n",
    "    if sumControl>0:\n",
    "        score=0\n",
    "        \n",
    "    if score>0:\n",
    "        return (k,(score,sumCase,sumControl))"
   ]
  },
  {
   "cell_type": "code",
   "execution_count": 95,
   "metadata": {
    "collapsed": true
   },
   "outputs": [],
   "source": [
    "def getGenotypeVectorByGene(gene_symbol,variantList,patientsID_dictionnary,patientsID_split_index):\n",
    "    genoSum=[0]*len(patientsID_dictionnary)\n",
    "    \n",
    "    if len(variantList)>0:\n",
    "        #Go through list of variants\n",
    "        for i in range(0,len(variantList)):\n",
    "            #Get variant ID, and list of sample_index,genotype\n",
    "            (variantID,sample_geno_list)=variantList[i]\n",
    "            sample_geno_list=list(sample_geno_list)\n",
    "            \n",
    "            #Go through list of sample_index,genotype\n",
    "            genoSumTemp=[0]*len(patientsID_dictionnary)\n",
    "            for j in range(0,len(sample_geno_list)):\n",
    "                genoSumTemp[sample_geno_list[j][0]]=int(sample_geno_list[j][1]>0)\n",
    "            \n",
    "            ratioCase=float(sum(genoSumTemp[0:patientsID_split_index]))/patientsID_split_index\n",
    "            ratioControl=float(sum(genoSumTemp[patientsID_split_index:len(patientsID_dictionnary)]))/(len(patientsID_dictionnary)-patientsID_split_index)\n",
    "            \n",
    "            if (ratioCase<float(caseMAF_b.value)) and (ratioControl<float(controlMAF_b.value)):\n",
    "                #genoSum[sample_geno_list[j][0]]=genoSum[sample_geno_list[j][0]]+sample_geno_list[j][1]\n",
    "                genoSum=[x+y for x,y in zip(genoSum,genoSumTemp)]\n",
    "    \n",
    "    return genoSum"
   ]
  },
  {
   "cell_type": "code",
   "execution_count": 92,
   "metadata": {
    "collapsed": false
   },
   "outputs": [],
   "source": [
    "#variantList is [(locusID,[sample_index,genotype])]\n",
    "def scoreGene(gene_symbol,variantList):\n",
    "    variantList=list(variantList)\n",
    "    \n",
    "    patientsID_dictionnary=patientsID_dictionnary_b.value\n",
    "    genoSum=[0]*len(patientsID_dictionnary)\n",
    "    \n",
    "    patientsID_split_index=patientsID_split_index_b.value\n",
    "    \n",
    "    genoSum=getGenotypeVectorByGene(gene_symbol,variantList,patientsID_dictionnary,patientsID_split_index)\n",
    "    \n",
    "    sumCase=float(sum([int(x>0) for x in genoSum[0:patientsID_split_index]]))\n",
    "    sumControl=float(sum([int(x>0) for x in genoSum[(patientsID_split_index+1):len(patientsID_dictionnary)]]))\n",
    "    \n",
    "    ratioCase=sumCase/patientsID_split_index\n",
    "    ratioControl=sumControl/(len(patientsID_dictionnary)-patientsID_split_index)\n",
    "        \n",
    "    score=ratioCase-ratioControl\n",
    "    pvalue=fisher_exact([[sumCase,patientsID_split_index-sumCase],[sumControl,len(patientsID_dictionnary)-patientsID_split_index]],'greater')[1]\n",
    "        \n",
    "    if score>0:\n",
    "        return (gene_symbol,(score,pvalue,ratioCase,ratioControl,sumCase,sumControl))"
   ]
  },
  {
   "cell_type": "code",
   "execution_count": 93,
   "metadata": {
    "collapsed": false
   },
   "outputs": [],
   "source": [
    "def scoreGenePair(gene_symbol_pair,variantList):\n",
    "    \n",
    "    variantList=list(variantList)\n",
    "    \n",
    "    patientsID_dictionnary=patientsID_dictionnary_b.value\n",
    "    \n",
    "    patientsID_split_index=patientsID_split_index_b.value\n",
    "    \n",
    "    score=0\n",
    "    if len(variantList)==2:\n",
    "        (genes,variantList1)=variantList[0]\n",
    "        (genes,variantList2)=variantList[1]\n",
    "        \n",
    "        gene1=genes[0]\n",
    "        gene2=genes[1]\n",
    "        \n",
    "        variantList1=list(variantList1)\n",
    "        variantList2=list(variantList2)\n",
    "        \n",
    "        genoSum1=getGenotypeVectorByGene(gene1,variantList1,patientsID_dictionnary,patientsID_split_index)\n",
    "        genoSum2=getGenotypeVectorByGene(gene2,variantList2,patientsID_dictionnary,patientsID_split_index)\n",
    "        \n",
    "        genoSum=[int(x>0 and y>0) for x,y in zip(genoSum1,genoSum2)]\n",
    "        \n",
    "        sumCase=float(sum([int(x>0) for x in genoSum[0:patientsID_split_index]]))\n",
    "        ratioCase=sumCase/patientsID_split_index\n",
    "        sumControl=float(sum([int(x>0) for x in genoSum[(patientsID_split_index+1):len(patientsID_dictionnary)]]))\n",
    "        ratioControl=sumControl/(len(patientsID_dictionnary)-patientsID_split_index)\n",
    "        \n",
    "        score=ratioCase-ratioControl\n",
    "        pvalue=fisher_exact([[sumCase,patientsID_split_index-sumCase],[sumControl,len(patientsID_dictionnary)-patientsID_split_index]],'greater')[1]\n",
    "        \n",
    "        if score>0:\n",
    "            return (gene_symbol_pair,((gene1,gene2),score,pvalue,ratioCase,ratioControl,sumCase,sumControl))\n",
    "\n",
    "#Key is (variantID, gene)\n",
    "def getGene(variantGene_key):\n",
    "    gene=variantGene_key[1]\n",
    "    \n",
    "    return (gene)\n",
    "\n",
    "def createPairsGenes(k,v,genes):\n",
    "    return [(str(sorted([k,gene])),(sorted([k,gene]),v)) for gene in genes]\n",
    "\n",
    "def fillMissing(k,v):\n",
    "    v=list(v)\n",
    "    if v[0] is None:\n",
    "        v[0]=[0]*len(sample_id_case_b.value)\n",
    "    if v[1] is None:\n",
    "        v[1]=[0]*len(sample_id_control_b.value)\n",
    "        \n",
    "    return (k,v)\n",
    "\n",
    "def fillMissing(k,v):\n",
    "    v=list(v)\n",
    "    if v[1] is None:\n",
    "        v[1]=[0]*len(dict_patient_control_b.value)\n",
    "        \n",
    "    return (k,v)\n",
    "\n",
    "def createKey_Variant(variantData):\n",
    "    #ID is chr:pos:ref:alt\n",
    "    ID=variantData[1]+\":\"+str(variantData[2])+\":\"+variantData[3]+\":\"+variantData[4]\n",
    "    return ((ID),variantData[0])\n"
   ]
  },
  {
   "cell_type": "code",
   "execution_count": 94,
   "metadata": {
    "collapsed": false
   },
   "outputs": [
    {
     "data": {
      "text/plain": [
       "7.5"
      ]
     },
     "execution_count": 94,
     "metadata": {},
     "output_type": "execute_result"
    }
   ],
   "source": [
    "float(15)/2\n"
   ]
  },
  {
   "cell_type": "code",
   "execution_count": 96,
   "metadata": {
    "collapsed": false
   },
   "outputs": [],
   "source": [
    "start_time = time.time()\n",
    "\n",
    "variants_case = sqlContext.sql(\"SELECT patient,chr,pos,reference,alternative,gene_symbol,zygosity FROM parquetFile \"+sqlCase)\n",
    "patientsID_case=sorted(variants_case.map(lambda v:v[0]).distinct().collect())\n",
    "\n",
    "if sqlControl!=\"NULL\":\n",
    "    variants_control= sqlContext.sql(\"SELECT patient,chr,pos,reference,alternative,gene_symbol,zygosity FROM parquetFile \"+sqlControl)\n",
    "#    controlMAF=float(controlMAF)\n",
    "else:\n",
    "    variants_control=sc.emptyRDD()\n",
    "#    controlMAF=0   \n",
    "patientsID_control=sorted(variants_control.map(lambda v:v[0]).distinct().collect())\n",
    "\n",
    "patientsID=patientsID_case+patientsID_control\n",
    "patientsID_dictionnary=dict(zip(patientsID,range(len(patientsID))))\n",
    "\n",
    "patientsID_split_index_b=sc.broadcast(len(patientsID_case))\n",
    "\n",
    "patientsID_dictionnary_b = sc.broadcast(patientsID_dictionnary)\n",
    "\n",
    "variants=variants_control.unionAll(variants_case)\n",
    "\n",
    "variants_grouped=variants.map(createKey_VariantGene).groupByKey()\n",
    "\n",
    "controlMAF_b=sc.broadcast(controlMAF)\n",
    "caseMAF_b=sc.broadcast(caseMAF)\n",
    "\n",
    "\n",
    "#Discard variant which have more than XX entries in Higlander DB\n",
    "#variants_stats=sqlContext.sql(\"SELECT patient,chr,pos,reference,alternative FROM parquetFile where filters='PASS'\")\n",
    "#variantsIDtoDiscard=variants_stats.map(createKey_Variant).groupByKey().filter(lambda (k,v):len(v)>40).keys().collect()\n",
    "#variants_grouped=variants_grouped.filter(lambda (k,v):k[0] not in variantsIDtoDiscard)\n"
   ]
  },
  {
   "cell_type": "code",
   "execution_count": 97,
   "metadata": {
    "collapsed": false,
    "scrolled": true
   },
   "outputs": [
    {
     "name": "stdout",
     "output_type": "stream",
     "text": [
      "21.771600008\n"
     ]
    }
   ],
   "source": [
    "#start_time = time.time()\n",
    "ntests=0\n",
    "\n",
    "if scope=='monogenic':\n",
    "    if scale=='variant':\n",
    "        scores=genoMat.map(lambda (k,v):scoreVariantUnivariate(k,v)).filter(lambda x:x is not None).takeOrdered(10000000, key=lambda (k,(v1,v2,v3)): -v1)\n",
    "\n",
    "    if scale=='gene':\n",
    "        variants_grouped_by_gene=variants_grouped.map(geneAsKey).groupByKey()\n",
    "        ntests=variants_grouped_by_gene.count()\n",
    "        scores=variants_grouped_by_gene.map(lambda (k,v):scoreGene(k,v)).filter(lambda x:x is not None).takeOrdered(1000, key=lambda (k,(v1,v2,v3,v4,v5,v6)): -v1)\n",
    "if scope=='digenic':\n",
    "    variants_grouped_by_gene=variants_grouped.map(geneAsKey).groupByKey()#.flatMap(lambda (k,v):createPairsGenes(k,v,genes)).groupByKey().map(lambda (k,v):scoreGenePair(k,v))#.filter(lambda x:x is not None).takeOrdered(1000, key=lambda (k,(genes,v1,v2,v3)): -v1)\n",
    "    genes=variants_grouped_by_gene.keys().collect()\n",
    "    scores=variants_grouped_by_gene.flatMap(lambda (k,v):createPairsGenes(k,v,genes)).groupByKey().map(lambda (k,v):scoreGenePair(k,v)).filter(lambda x:x is not None).takeOrdered(1000, key=lambda (k,(genes,v1,v2,v3,v4,v5,v6)): -v1)\n",
    "    ntests=len(genes)*(len(genes)+1)/2\n",
    "    \n",
    "end_time=time.time()\n",
    "runtime=end_time - start_time\n",
    "print(runtime)\n"
   ]
  },
  {
   "cell_type": "code",
   "execution_count": 99,
   "metadata": {
    "collapsed": false
   },
   "outputs": [
    {
     "data": {
      "text/plain": [
       "37"
      ]
     },
     "execution_count": 99,
     "metadata": {},
     "output_type": "execute_result"
    }
   ],
   "source": [
    "len(scores)"
   ]
  },
  {
   "cell_type": "code",
   "execution_count": 100,
   "metadata": {
    "collapsed": false
   },
   "outputs": [
    {
     "data": {
      "text/plain": [
       "[(u'CCDC7',\n",
       "  (0.38359569179784586,\n",
       "   7.4914116205197789e-05,\n",
       "   0.4117647058823529,\n",
       "   0.028169014084507043,\n",
       "   7.0,\n",
       "   2.0)),\n",
       " (u'CDT1',\n",
       "  (0.3247721623860812,\n",
       "   0.00043821084308239916,\n",
       "   0.35294117647058826,\n",
       "   0.028169014084507043,\n",
       "   6.0,\n",
       "   2.0)),\n",
       " (u'ERCC8',\n",
       "  (0.3106876553438277,\n",
       "   0.0010929434058059842,\n",
       "   0.35294117647058826,\n",
       "   0.04225352112676056,\n",
       "   6.0,\n",
       "   3.0))]"
      ]
     },
     "execution_count": 100,
     "metadata": {},
     "output_type": "execute_result"
    }
   ],
   "source": [
    "scores[0:3]"
   ]
  },
  {
   "cell_type": "code",
   "execution_count": 101,
   "metadata": {
    "collapsed": false
   },
   "outputs": [],
   "source": [
    "scores=[analysisName,scale,scope,start_time,end_time,runtime,scores,patientsID_case,patientsID_control,group1name,group2name,ntests]\n",
    "\n",
    "with open(analysisName+'.txt', 'w') as outfile:\n",
    "    json.dump(scores, outfile)\n",
    "    "
   ]
  },
  {
   "cell_type": "code",
   "execution_count": null,
   "metadata": {
    "collapsed": true
   },
   "outputs": [],
   "source": [
    "sc.stop()"
   ]
  }
 ],
 "metadata": {
  "kernelspec": {
   "display_name": "Python 2",
   "language": "python",
   "name": "python2"
  },
  "language_info": {
   "codemirror_mode": {
    "name": "ipython",
    "version": 2
   },
   "file_extension": ".py",
   "mimetype": "text/x-python",
   "name": "python",
   "nbconvert_exporter": "python",
   "pygments_lexer": "ipython2",
   "version": "2.7.10"
  }
 },
 "nbformat": 4,
 "nbformat_minor": 0
}
