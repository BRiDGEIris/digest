{
 "cells": [
  {
   "cell_type": "code",
   "execution_count": 177,
   "metadata": {
    "collapsed": false
   },
   "outputs": [],
   "source": [
    "from pyspark import SparkContext, SparkConf\n",
    "from pyspark.sql import SQLContext\n",
    "from pyspark.sql import HiveContext\n",
    "import json\n",
    "import time\n",
    "import sys\n",
    "\n",
    "content = [line.rstrip() for line in open('jobsArguments.conf')]\n",
    "\n",
    "analysisName=content[0]\n",
    "scope=content[1]\n",
    "scale=content[2]\n",
    "sqlControl=content[3]\n",
    "sqlCase=content[4]\n",
    "group1name=content[5]\n",
    "group2name=content[6]\n",
    "\n",
    "nPartitions=4\n",
    "conf = (SparkConf()\n",
    "         .setMaster(\"local[\"+str(nPartitions)+\"]\")\n",
    "         .setAppName(analysisName)\n",
    "#         .set(\"spark.executor.memory\", \"5g\")\n",
    "#         .set(\"spark.driver.memory\", \"5g\")\n",
    "#         .set(\"spark.python.worker.memory\", \"5g\")\n",
    "       )\n",
    "#sc.stop()\n",
    "sc = SparkContext(conf=conf)\n",
    "\n",
    "\n",
    "#parquetFile = sqlContext.read.parquet(\"/user/hive/warehouse/gvr4.db/variantsulb\")\n",
    "#parquetFile = sqlContext.read.parquet(\"/Users/yalb/Projects/Github/Docker/cdh54_4_add1000g/variants2\")\n",
    "#parquetFile = sqlContext.read.parquet(\"hdfs://127.0.0.1:8020/user/hive/warehouse/gvr.db/test\")\n",
    "#parquetFile = sqlContext.read.parquet(\"hdfs://localhost/user/hive/warehouse/gvr3.db/variants\")\n",
    "\n"
   ]
  },
  {
   "cell_type": "code",
   "execution_count": 178,
   "metadata": {
    "collapsed": false
   },
   "outputs": [],
   "source": [
    "#sqlContext = HiveContext(sc) #sqlContext._get_hive_ctx() #HiveContext(sc) \n",
    "sqlContext = SQLContext(sc)\n",
    "sqlContext.sql(\"SET spark.sql.parquet.binaryAsString=true\")\n",
    "\n",
    "#parquetFile = sqlContext.read.parquet(\"/user/hive/warehouse/gvr4.db/variantsulb\")\n",
    "#parquetFile = sqlContext.read.parquet(\"/Users/yalb/Projects/Github/Docker/cdh54_4_add1000g/variants2\")\n",
    "#parquetFile = sqlContext.read.parquet(\"hdfs://127.0.0.1:8020/user/hive/warehouse/gvr.db/test\")\n",
    "#parquetFile = sqlContext.read.parquet(\"hdfs://localhost/user/hive/warehouse/gvr3.db/variants\")\n",
    "\n",
    "parquetFile = sqlContext.read.parquet(\"/Users/yalb/Projects/Github/digest/variantsulb\")\n",
    "parquetFile.registerTempTable(\"parquetFile\");\n"
   ]
  },
  {
   "cell_type": "code",
   "execution_count": 179,
   "metadata": {
    "collapsed": true
   },
   "outputs": [],
   "source": [
    "#analysisName=\"control_vs_neurodev_rare_digenic\"\n",
    "#group1name=\"control_ulb_rare_damaging\"\n",
    "#group2name=\"neurodev_ulb_rare_damaging\"\n",
    "#scope=\"digenic\"\n",
    "#scale=\"gene\"\n",
    "#controlMAF=0.5"
   ]
  },
  {
   "cell_type": "code",
   "execution_count": 180,
   "metadata": {
    "collapsed": false
   },
   "outputs": [],
   "source": [
    "#RDDtest = sqlContext.sql(\"SELECT distinct patient from parquetFile\")"
   ]
  },
  {
   "cell_type": "code",
   "execution_count": 181,
   "metadata": {
    "collapsed": false
   },
   "outputs": [],
   "source": [
    "#RDDtest.count()"
   ]
  },
  {
   "cell_type": "code",
   "execution_count": 182,
   "metadata": {
    "collapsed": false
   },
   "outputs": [],
   "source": [
    "#Input is vector patient, chr, pos, ref, alt, gene_symbol, zygosity\n",
    "def splitByVariantID(variantData,patientsID):\n",
    "    #ID is chr:pos:ref:alt\n",
    "    ID=variantData[1]+\":\"+str(variantData[2])+\":\"+variantData[3]+\":\"+variantData[4]\n",
    "    #return ID, gene_symbol, patient, zygosity\n",
    "    zygosity=2\n",
    "    if variantData[6]==1:\n",
    "        zygosity=1\n",
    "    patientIndex=patientsID[variantData[0]]\n",
    "    return (ID,(variantData[5],patientIndex,zygosity))\n",
    "\n",
    "def buildVariantVector(ID,variantData,patientsID):\n",
    "    variantData=list(variantData)\n",
    "    genotype=[0]*len(patientsID)\n",
    "    \n",
    "    #Get sampleID/Genotype for each variant\n",
    "    for i in range(0,len(variantData)):\n",
    "        genotype[variantData[i][1]]=variantData[i][2]\n",
    "    \n",
    "    return ((ID,variantData[0][0]),genotype)\n",
    "\n"
   ]
  },
  {
   "cell_type": "code",
   "execution_count": 183,
   "metadata": {
    "collapsed": true
   },
   "outputs": [],
   "source": [
    "def geneAsKey(variantData):    \n",
    "    return (variantData[0][1],(variantData[0][0],variantData[1]))\n",
    "\n",
    "def makePairParts(k,v,nbPart):\n",
    "    result=[]\n",
    "    for i in range(0,nbPart):\n",
    "        result.append(((k,i),v))\n",
    "        \n",
    "    return [(str(sorted([k,i])),(v)) for i in range(0,nbPart)]\n",
    "\n",
    "def f(splitIndex ,v): \n",
    "    return [(splitIndex,list(v))]"
   ]
  },
  {
   "cell_type": "code",
   "execution_count": 184,
   "metadata": {
    "collapsed": true
   },
   "outputs": [],
   "source": [
    "def scoreVariantUnivariate(k,variantData):\n",
    "    variantData=list(variantData)\n",
    "    \n",
    "    score=0\n",
    "    sumControl=0\n",
    "    \n",
    "    sumCase=sum([int(x>0) for x in variantData[0]])\n",
    "    sumControl=sum([int(x>0) for x in variantData[1]])\n",
    "    \n",
    "    score=sumCase#-sumControl\n",
    "    if sumControl>0:\n",
    "        score=0\n",
    "        \n",
    "    if score>0:\n",
    "        return (k,(score,sumCase,sumControl))"
   ]
  },
  {
   "cell_type": "code",
   "execution_count": 185,
   "metadata": {
    "collapsed": true
   },
   "outputs": [],
   "source": [
    "#variantList is [(locusID,[genotypeCase,genotypeControl])]\n",
    "def scoreGeneUnivariate(k,variantList):\n",
    "    variantList=list(variantList)\n",
    "    \n",
    "    genosumcase=[]\n",
    "    genosumcontrol=[]\n",
    "    if len(variantList)>0:\n",
    "        for i in range(0,len(variantList)):\n",
    "            (locus,geno)=variantList[i]\n",
    "            if genosumcase==[]:\n",
    "                genosumcase=[int(x) for x in geno[0]]\n",
    "                genosumcontrol=[int(x) for x in geno[1]]\n",
    "            else:\n",
    "                genosumcase=[int(x)+int(y) for x,y in zip(genosumcase,geno[0])]\n",
    "                genosumcontrol=[int(x)+int(y) for x,y in zip(genosumcontrol,geno[1])]\n",
    "                \n",
    "        sumCase=sum([int(x>0) for x in genosumcase])\n",
    "        sumControl=sum([int(x>0) for x in genosumcontrol])\n",
    "        score=sumCase-sumControl\n",
    "\n",
    "    if score>0:\n",
    "        return (k,(score,sumCase,sumControl))"
   ]
  },
  {
   "cell_type": "code",
   "execution_count": 186,
   "metadata": {
    "collapsed": false
   },
   "outputs": [],
   "source": [
    "def scoreDigenicGene(k,variantLists):\n",
    "    variantLists=list(variantLists)\n",
    "    geno1sumcase=[]\n",
    "    geno1sumcontrol=[]\n",
    "    geno2sumcase=[]\n",
    "    geno2sumcontrol=[]\n",
    "    score=0\n",
    "    if len(variantLists)==2:\n",
    "        (genes,variantList1)=list(variantLists[0])\n",
    "        (genes,variantList2)=list(variantLists[1])\n",
    "        gene1=genes[0]\n",
    "        gene2=genes[1]\n",
    "        variantList1=list(variantList1)\n",
    "        variantList2=list(variantList2)\n",
    "        for i in range(0,len(variantList1)):\n",
    "            (locus1,geno1)=variantList1[i]\n",
    "            if geno1sumcase==[]:\n",
    "                geno1sumcase=[int(x) for x in geno1[0]]\n",
    "                geno1sumcontrol=[int(x) for x in geno1[1]]\n",
    "            else:\n",
    "                geno1sumcase=[int(x)+int(y) for x,y in zip(geno1sumcase,geno1[0])]\n",
    "                geno1sumcontrol=[int(x)+int(y) for x,y in zip(geno1sumcontrol,geno1[1])]\n",
    "                \n",
    "        for i in range(0,len(variantList2)):\n",
    "            (locus2,geno2)=variantList2[i]\n",
    "            if geno2sumcase==[]:\n",
    "                geno2sumcase=[int(x) for x in geno2[0]]\n",
    "                geno2sumcontrol=[int(x) for x in geno2[1]]\n",
    "            else:\n",
    "                geno2sumcase=[int(x)+int(y) for x,y in zip(geno2sumcase,geno2[0])]\n",
    "                geno2sumcontrol=[int(x)+int(y) for x,y in zip(geno2sumcontrol,geno2[1])]\n",
    "                \n",
    "        genosumcase=[int((x>0) & (y>0)) for x,y in zip(geno1sumcase,geno2sumcase)]\n",
    "        genosumcontrol=[int((x>0) & (y>0)) for x,y in zip(geno1sumcontrol,geno2sumcontrol)]\n",
    "        \n",
    "        sumCase=sum([int(x>0) for x in genosumcase])\n",
    "        sumControl=sum([int(x>0) for x in genosumcontrol])\n",
    "        \n",
    "        meanControl=0\n",
    "        if len(genosumcontrol)>0:\n",
    "            meanControl=round(float(sumControl)/len(genosumcontrol),2)\n",
    "        \n",
    "        score=sumCase\n",
    "        \n",
    "        if score>0:\n",
    "            if meanControl<=controlMAF_b.value:\n",
    "                return (k,((gene1,gene2),score,sumCase,meanControl))\n",
    "\n",
    "def getGene(variantData):\n",
    "    variantGene=variantData[0][1]\n",
    "    \n",
    "    return (variantGene)\n",
    "\n",
    "def createPairsGenes(k,v,genes):\n",
    "    return [(str(sorted([k,gene])),(sorted([k,gene]),v)) for gene in genes]\n",
    "\n",
    "def fillMissing(k,v):\n",
    "    v=list(v)\n",
    "    if v[0] is None:\n",
    "        v[0]=[0]*len(sample_id_case_b.value)\n",
    "    if v[1] is None:\n",
    "        v[1]=[0]*len(sample_id_control_b.value)\n",
    "        \n",
    "    return (k,v)\n",
    "\n",
    "def fillMissing(k,v):\n",
    "    v=list(v)\n",
    "    if v[1] is None:\n",
    "        v[1]=[0]*len(dict_patient_control_b.value)\n",
    "        \n",
    "    return (k,v)"
   ]
  },
  {
   "cell_type": "code",
   "execution_count": 187,
   "metadata": {
    "collapsed": false
   },
   "outputs": [],
   "source": [
    "start_time = time.time()\n",
    "#sqlCase=\"sample_id IN('HG00096','HG00097','HG00099','HG00100','HG00101','HG00102','HG00103','HG00105','HG00106','HG00107','HG00108','HG00109','HG00110','HG00111','HG00112','HG00113','HG00114','HG00115','HG00116','HG00117','HG00118','HG00119','HG00120','HG00121','HG00122','HG00123','HG00125','HG00126','HG00127','HG00128','HG00129','HG00130','HG00131','HG00132','HG00133','HG00136','HG00137','HG00138','HG00139','HG00140','HG00141','HG00142','HG00143','HG00145','HG00146','HG00148','HG00149','HG00150','HG00151','HG00154','HG00155','HG00157','HG00158','HG00159','HG00160','HG00171','HG00173','HG00174','HG00176','HG00177','HG00178','HG00179','HG00180','HG00181','HG00182','HG00183','HG00185','HG00186','HG00187','HG00188','HG00189','HG00190','HG00231','HG00232','HG00233','HG00234','HG00235','HG00236','HG00237','HG00238','HG00239','HG00240','HG00242','HG00243','HG00244','HG00245','HG00246','HG00250','HG00251','HG00252','HG00253','HG00254','HG00255','HG00256','HG00257','HG00258','HG00259','HG00260','HG00261','HG00262')\"\n",
    "#sqlControl=\"sample_id IN('HG00096','HG00097','HG00099','HG00100','HG00101','HG00102','HG00103','HG00105','HG00106','HG00107','HG00108','HG00109','HG00110','HG00111','HG00112','HG00113','HG00114','HG00115','HG00116','HG00117','HG00118','HG00119','HG00120','HG00121','HG00122','HG00123','HG00125','HG00126','HG00127','HG00128','HG00129','HG00130','HG00131','HG00132','HG00133','HG00136','HG00137','HG00138','HG00139','HG00140','HG00141','HG00142','HG00143','HG00145','HG00146','HG00148','HG00149','HG00150','HG00151','HG00154','HG00155','HG00157','HG00158','HG00159','HG00160','HG00171','HG00173','HG00174','HG00176','HG00177','HG00178','HG00179','HG00180','HG00181','HG00182','HG00183','HG00185','HG00186','HG00187','HG00188','HG00189','HG00190','HG00231','HG00232','HG00233','HG00234','HG00235','HG00236','HG00237','HG00238','HG00239','HG00240','HG00242','HG00243','HG00244','HG00245','HG00246','HG00250','HG00251','HG00252','HG00253','HG00254','HG00255','HG00256','HG00257','HG00258','HG00259','HG00260','HG00261','HG00262')\"\n",
    "\n",
    "#sample_id_case=['HG00096','HG00097','HG00099','HG00100','HG00101','HG00102','HG00103','HG00105','HG00106','HG00107','HG00108','HG00109','HG00110','HG00111','HG00112','HG00113','HG00114','HG00115','HG00116','HG00117','HG00118','HG00119','HG00120','HG00121','HG00122','HG00123','HG00125','HG00126','HG00127','HG00128','HG00129','HG00130','HG00131','HG00132','HG00133','HG00136','HG00137','HG00138','HG00139','HG00140','HG00141','HG00142','HG00143','HG00145','HG00146','HG00148','HG00149','HG00150','HG00151','HG00154','HG00155','HG00157','HG00158','HG00159','HG00160','HG00171','HG00173','HG00174','HG00176','HG00177','HG00178','HG00179','HG00180','HG00181','HG00182','HG00183','HG00185','HG00186','HG00187','HG00188','HG00189','HG00190','HG00231','HG00232','HG00233','HG00234','HG00235','HG00236','HG00237','HG00238','HG00239','HG00240','HG00242','HG00243','HG00244','HG00245','HG00246','HG00250','HG00251','HG00252','HG00253','HG00254','HG00255','HG00256','HG00257','HG00258','HG00259','HG00260','HG00261','HG00262']\n",
    "#sample_id_control=['HG00096','HG00097','HG00099','HG00100','HG00101','HG00102','HG00103','HG00105','HG00106','HG00107','HG00108','HG00109','HG00110','HG00111','HG00112','HG00113','HG00114','HG00115','HG00116','HG00117','HG00118','HG00119','HG00120','HG00121','HG00122','HG00123','HG00125','HG00126','HG00127','HG00128','HG00129','HG00130','HG00131','HG00132','HG00133','HG00136','HG00137','HG00138','HG00139','HG00140','HG00141','HG00142','HG00143','HG00145','HG00146','HG00148','HG00149','HG00150','HG00151','HG00154','HG00155','HG00157','HG00158','HG00159','HG00160','HG00171','HG00173','HG00174','HG00176','HG00177','HG00178','HG00179','HG00180','HG00181','HG00182','HG00183','HG00185','HG00186','HG00187','HG00188','HG00189','HG00190','HG00231','HG00232','HG00233','HG00234','HG00235','HG00236','HG00237','HG00238','HG00239','HG00240','HG00242','HG00243','HG00244','HG00245','HG00246','HG00250','HG00251','HG00252','HG00253','HG00254','HG00255','HG00256','HG00257','HG00258','HG00259','HG00260','HG00261','HG00262']\n",
    "\n",
    "RDDcase = sqlContext.sql(\"SELECT patient,chr,pos,reference,alternative,gene_symbol,zygosity FROM parquetFile \"+sqlCase)\n",
    "patient_case=sorted(RDDcase.map(lambda v:v[0]).distinct().collect())\n",
    "dict_patient_case=dict(zip(patient_case,range(len(patient_case))))\n",
    "dict_patient_case_b = sc.broadcast(dict_patient_case)\n",
    "\n",
    "if sqlControl!=\"NULL\":\n",
    "    RDDcontrol= sqlContext.sql(\"SELECT patient,chr,pos,reference,alternative,gene_symbol,zygosity FROM parquetFile \"+sqlControl)\n",
    "#    controlMAF=float(controlMAF)\n",
    "else:\n",
    "    RDDcontrol=sc.emptyRDD()\n",
    "#    controlMAF=0   \n",
    "patient_control=sorted(RDDcontrol.map(lambda v:v[0]).distinct().collect())\n",
    "dict_patient_control=dict(zip(patient_control,range(len(patient_control))))\n",
    "dict_patient_control_b = sc.broadcast(dict_patient_control)\n",
    "\n",
    "\n",
    "#controlMAF_b=sc.broadcast(controlMAF)\n",
    "\n",
    "genoMatCase=RDDcase.map(lambda v:splitByVariantID(v,dict_patient_case)).groupByKey()\n",
    "genoMatCase=genoMatCase.map(lambda (k,v):buildVariantVector(k,v,dict_patient_case))\n",
    "\n",
    "genoMatControl=RDDcontrol.map(lambda v:splitByVariantID(v,dict_patient_control)).groupByKey()\n",
    "genoMatControl=genoMatControl.map(lambda (k,v):buildVariantVector(k,v,dict_patient_control))\n",
    "\n",
    "genoMat=genoMatCase.leftOuterJoin(genoMatControl).map(lambda (k,v): fillMissing(k,v))\n",
    "#genoMat=genoMatCase.fullOuterJoin(genoMatControl).map(lambda (k,v): fillMissing(k,v))\n"
   ]
  },
  {
   "cell_type": "code",
   "execution_count": 188,
   "metadata": {
    "collapsed": false
   },
   "outputs": [
    {
     "data": {
      "text/plain": [
       "771"
      ]
     },
     "execution_count": 188,
     "metadata": {},
     "output_type": "execute_result"
    }
   ],
   "source": [
    "genoMat.count()"
   ]
  },
  {
   "cell_type": "code",
   "execution_count": 189,
   "metadata": {
    "collapsed": false
   },
   "outputs": [
    {
     "name": "stdout",
     "output_type": "stream",
     "text": [
      "14.9167060852\n"
     ]
    }
   ],
   "source": [
    "#start_time = time.time()\n",
    "\n",
    "\n",
    "if scope=='monogenic':\n",
    "    if scale=='variant':\n",
    "        scores=genoMat.map(lambda (k,v):scoreVariantUnivariate(k,v)).filter(lambda x:x is not None).takeOrdered(10000000, key=lambda (k,(v1,v2,v3)): -v1)\n",
    "\n",
    "    if scale=='gene':\n",
    "        scores=genoMat.map(geneAsKey).groupByKey().map(lambda (k,v):scoreGeneUnivariate(k,v)).filter(lambda x:x is not None).takeOrdered(1000, key=lambda (k,(v1,v2,v3)): -v1)\n",
    "    \n",
    "if scope=='digenic':\n",
    "    genes=genoMat.map(getGene).distinct().takeOrdered(100000).flatMap(lambda (k,v):scoreCompound(k,v)).takeOrdered(100000, key=lambda (k,v1,v2,v3): -v1)\n",
    "    scores=genoMat.map(splitValues).groupByKey().flatMap(lambda (k,v):createPairsGenes(k,v,genes)).groupByKey().map(lambda (k,v):scoreDigenicGene(k,v)).filter(lambda x:x is not None).takeOrdered(1000, key=lambda (k,(genes,v1,v2,v3)): -v1)\n",
    "\n",
    "end_time=time.time()\n",
    "runtime=end_time - start_time\n",
    "print(runtime)\n"
   ]
  },
  {
   "cell_type": "code",
   "execution_count": 190,
   "metadata": {
    "collapsed": false
   },
   "outputs": [
    {
     "data": {
      "text/plain": [
       "[(u'SREBF1', (4, 4, 0)),\n",
       " (u'CACNA1B', (3, 10, 7)),\n",
       " (u'ADH6', (2, 2, 0)),\n",
       " (u'RPS3A', (2, 2, 0)),\n",
       " (u'TDG', (2, 8, 6)),\n",
       " (u'WDR89', (2, 2, 0)),\n",
       " (u'KRT77', (2, 2, 0)),\n",
       " (u'POLR3B', (2, 2, 0)),\n",
       " (u'PRR21', (2, 3, 1)),\n",
       " (u'ARMCX4', (2, 2, 0)),\n",
       " (u'ARHGAP4', (1, 1, 0)),\n",
       " (u'AC078925.1', (1, 1, 0)),\n",
       " (u'ABCD1', (1, 1, 0)),\n",
       " (u'CAGE1', (1, 1, 0)),\n",
       " (u'FAM209B', (1, 1, 0)),\n",
       " (u'PRAMEF11', (1, 1, 0)),\n",
       " (u'HTT', (1, 1, 0)),\n",
       " (u'BCL11A', (1, 1, 0)),\n",
       " (u'MUC20', (1, 1, 0)),\n",
       " (u'PLIN4', (1, 1, 0)),\n",
       " (u'ADAM29', (1, 1, 0)),\n",
       " (u'LACTBL1', (1, 1, 0)),\n",
       " (u'STAB2', (1, 1, 0)),\n",
       " (u'MMP3', (1, 1, 0)),\n",
       " (u'KRT16P3', (1, 2, 1)),\n",
       " (u'DPY19L4', (1, 1, 0)),\n",
       " (u'ACADSB', (1, 1, 0)),\n",
       " (u'OTUB2', (1, 1, 0)),\n",
       " (u'ZCWPW2', (1, 1, 0)),\n",
       " (u'FOXD4L5', (1, 1, 0)),\n",
       " (u'RP11-1407O15.2', (1, 2, 1)),\n",
       " (u'CBX3', (1, 1, 0)),\n",
       " (u'NPIPB5', (1, 1, 0)),\n",
       " (u'CADM4', (1, 1, 0)),\n",
       " (u'PTPRN2', (1, 1, 0)),\n",
       " (u'PRKRA', (1, 1, 0)),\n",
       " (u'DNAH17', (1, 1, 0)),\n",
       " (u'BNIP1', (1, 1, 0)),\n",
       " (u'ANKRD44', (1, 1, 0)),\n",
       " (u'AC008686.1', (1, 8, 7)),\n",
       " (u'MTCH2', (1, 1, 0)),\n",
       " (u'BOD1', (1, 1, 0)),\n",
       " (u'ACSM5', (1, 1, 0)),\n",
       " (u'ESPN', (1, 2, 1)),\n",
       " (u'DGKH', (1, 1, 0)),\n",
       " (u'SRGAP1', (1, 2, 1)),\n",
       " (u'RP11-626K17.5', (1, 2, 1)),\n",
       " (u'ADNP2', (1, 1, 0)),\n",
       " (u'HERC2', (1, 1, 0)),\n",
       " (u'SIGLEC5', (1, 2, 1)),\n",
       " (u'AHNAK2', (1, 4, 3)),\n",
       " (u'NARS', (1, 1, 0)),\n",
       " (u'NDUFB11', (1, 1, 0)),\n",
       " (u'OR5P3', (1, 1, 0)),\n",
       " (u'PLK4', (1, 1, 0)),\n",
       " (u'MUC2', (1, 1, 0)),\n",
       " (u'FRG1', (1, 2, 1)),\n",
       " (u'RASA2', (1, 1, 0)),\n",
       " (u'FAM86B1', (1, 2, 1)),\n",
       " (u'EXOC6', (1, 1, 0)),\n",
       " (u'GGT3P', (1, 5, 4)),\n",
       " (u'KRTAP4-3', (1, 2, 1)),\n",
       " (u'KRT18', (1, 3, 2)),\n",
       " (u'IL23R', (1, 1, 0)),\n",
       " (u'IGHV1-2', (1, 1, 0)),\n",
       " (u'RNPC3', (1, 1, 0))]"
      ]
     },
     "execution_count": 190,
     "metadata": {},
     "output_type": "execute_result"
    }
   ],
   "source": [
    "#scores"
   ]
  },
  {
   "cell_type": "code",
   "execution_count": 192,
   "metadata": {
    "collapsed": false
   },
   "outputs": [
    {
     "ename": "IOError",
     "evalue": "[Errno 2] No such file or directory: 'analyses/test2.txt'",
     "output_type": "error",
     "traceback": [
      "\u001b[0;31m---------------------------------------------------------------------------\u001b[0m",
      "\u001b[0;31mIOError\u001b[0m                                   Traceback (most recent call last)",
      "\u001b[0;32m<ipython-input-192-941415448355>\u001b[0m in \u001b[0;36m<module>\u001b[0;34m()\u001b[0m\n\u001b[1;32m      1\u001b[0m \u001b[0mscores\u001b[0m\u001b[0;34m=\u001b[0m\u001b[0;34m[\u001b[0m\u001b[0manalysisName\u001b[0m\u001b[0;34m,\u001b[0m\u001b[0mscale\u001b[0m\u001b[0;34m,\u001b[0m\u001b[0mscope\u001b[0m\u001b[0;34m,\u001b[0m\u001b[0mstart_time\u001b[0m\u001b[0;34m,\u001b[0m\u001b[0mend_time\u001b[0m\u001b[0;34m,\u001b[0m\u001b[0mruntime\u001b[0m\u001b[0;34m,\u001b[0m\u001b[0mscores\u001b[0m\u001b[0;34m,\u001b[0m\u001b[0mpatient_case\u001b[0m\u001b[0;34m,\u001b[0m\u001b[0mpatient_control\u001b[0m\u001b[0;34m,\u001b[0m\u001b[0mgroup1name\u001b[0m\u001b[0;34m,\u001b[0m\u001b[0mgroup2name\u001b[0m\u001b[0;34m]\u001b[0m\u001b[0;34m\u001b[0m\u001b[0m\n\u001b[1;32m      2\u001b[0m \u001b[0;34m\u001b[0m\u001b[0m\n\u001b[0;32m----> 3\u001b[0;31m \u001b[0;32mwith\u001b[0m \u001b[0mopen\u001b[0m\u001b[0;34m(\u001b[0m\u001b[0;34m\"analyses/\"\u001b[0m\u001b[0;34m+\u001b[0m\u001b[0manalysisName\u001b[0m\u001b[0;34m+\u001b[0m\u001b[0;34m'.txt'\u001b[0m\u001b[0;34m,\u001b[0m \u001b[0;34m'w'\u001b[0m\u001b[0;34m)\u001b[0m \u001b[0;32mas\u001b[0m \u001b[0moutfile\u001b[0m\u001b[0;34m:\u001b[0m\u001b[0;34m\u001b[0m\u001b[0m\n\u001b[0m\u001b[1;32m      4\u001b[0m     \u001b[0mjson\u001b[0m\u001b[0;34m.\u001b[0m\u001b[0mdump\u001b[0m\u001b[0;34m(\u001b[0m\u001b[0mscores\u001b[0m\u001b[0;34m,\u001b[0m \u001b[0moutfile\u001b[0m\u001b[0;34m)\u001b[0m\u001b[0;34m\u001b[0m\u001b[0m\n\u001b[1;32m      5\u001b[0m \u001b[0;34m\u001b[0m\u001b[0m\n",
      "\u001b[0;31mIOError\u001b[0m: [Errno 2] No such file or directory: 'analyses/test2.txt'"
     ]
    }
   ],
   "source": [
    "scores=[analysisName,scale,scope,start_time,end_time,runtime,scores,patient_case,patient_control,group1name,group2name]\n",
    "\n",
    "with open(\"analyses/\"+analysisName+'.txt', 'w') as outfile:\n",
    "    json.dump(scores, outfile)\n",
    "    "
   ]
  },
  {
   "cell_type": "code",
   "execution_count": null,
   "metadata": {
    "collapsed": true
   },
   "outputs": [],
   "source": [
    "sc.stop()"
   ]
  }
 ],
 "metadata": {
  "kernelspec": {
   "display_name": "Python 2",
   "language": "python",
   "name": "python2"
  },
  "language_info": {
   "codemirror_mode": {
    "name": "ipython",
    "version": 2
   },
   "file_extension": ".py",
   "mimetype": "text/x-python",
   "name": "python",
   "nbconvert_exporter": "python",
   "pygments_lexer": "ipython2",
   "version": "2.7.10"
  }
 },
 "nbformat": 4,
 "nbformat_minor": 0
}
